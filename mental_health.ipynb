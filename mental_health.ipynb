{
  "cells": [
    {
      "cell_type": "code",
      "execution_count": 1,
      "id": "hGOAG5rb14gK",
      "metadata": {
        "colab": {
          "base_uri": "https://localhost:8080/"
        },
        "id": "hGOAG5rb14gK",
        "outputId": "8cde1779-f4c2-41a1-a10c-8954a4202126"
      },
      "outputs": [
        {
          "name": "stdout",
          "output_type": "stream",
          "text": [
            "zsh:1: command not found: pip\n"
          ]
        }
      ],
      "source": [
        "!pip install seaborn"
      ]
    },
    {
      "cell_type": "code",
      "execution_count": 2,
      "id": "db4cc19a",
      "metadata": {
        "id": "db4cc19a"
      },
      "outputs": [],
      "source": [
        "import pandas as pd\n",
        "\n",
        "df = pd.read_csv('mental_health_dataset.csv')"
      ]
    },
    {
      "cell_type": "code",
      "execution_count": 3,
      "id": "ce5696ba",
      "metadata": {
        "colab": {
          "base_uri": "https://localhost:8080/",
          "height": 261
        },
        "id": "ce5696ba",
        "outputId": "194eb4bf-7ed7-4a90-c897-798972a80aa7"
      },
      "outputs": [
        {
          "name": "stdout",
          "output_type": "stream",
          "text": [
            "Dimensões do dataset: (10000, 14)\n"
          ]
        },
        {
          "data": {
            "application/vnd.microsoft.datawrangler.viewer.v0+json": {
              "columns": [
                {
                  "name": "index",
                  "rawType": "int64",
                  "type": "integer"
                },
                {
                  "name": "age",
                  "rawType": "int64",
                  "type": "integer"
                },
                {
                  "name": "gender",
                  "rawType": "object",
                  "type": "string"
                },
                {
                  "name": "employment_status",
                  "rawType": "object",
                  "type": "string"
                },
                {
                  "name": "work_environment",
                  "rawType": "object",
                  "type": "string"
                },
                {
                  "name": "mental_health_history",
                  "rawType": "object",
                  "type": "string"
                },
                {
                  "name": "seeks_treatment",
                  "rawType": "object",
                  "type": "string"
                },
                {
                  "name": "stress_level",
                  "rawType": "int64",
                  "type": "integer"
                },
                {
                  "name": "sleep_hours",
                  "rawType": "float64",
                  "type": "float"
                },
                {
                  "name": "physical_activity_days",
                  "rawType": "int64",
                  "type": "integer"
                },
                {
                  "name": "depression_score",
                  "rawType": "int64",
                  "type": "integer"
                },
                {
                  "name": "anxiety_score",
                  "rawType": "int64",
                  "type": "integer"
                },
                {
                  "name": "social_support_score",
                  "rawType": "int64",
                  "type": "integer"
                },
                {
                  "name": "productivity_score",
                  "rawType": "float64",
                  "type": "float"
                },
                {
                  "name": "mental_health_risk",
                  "rawType": "object",
                  "type": "string"
                }
              ],
              "conversionMethod": "pd.DataFrame",
              "ref": "802acc7d-62d2-42df-aeb3-03057f9b2dc6",
              "rows": [
                [
                  "0",
                  "56",
                  "Male",
                  "Employed",
                  "On-site",
                  "Yes",
                  "Yes",
                  "6",
                  "6.2",
                  "3",
                  "28",
                  "17",
                  "54",
                  "59.7",
                  "High"
                ],
                [
                  "1",
                  "46",
                  "Female",
                  "Student",
                  "On-site",
                  "No",
                  "Yes",
                  "10",
                  "9.0",
                  "4",
                  "30",
                  "11",
                  "85",
                  "54.9",
                  "High"
                ],
                [
                  "2",
                  "32",
                  "Female",
                  "Employed",
                  "On-site",
                  "Yes",
                  "No",
                  "7",
                  "7.7",
                  "2",
                  "24",
                  "7",
                  "62",
                  "61.3",
                  "Medium"
                ],
                [
                  "3",
                  "60",
                  "Non-binary",
                  "Self-employed",
                  "On-site",
                  "No",
                  "No",
                  "4",
                  "4.5",
                  "4",
                  "6",
                  "0",
                  "95",
                  "97.0",
                  "Low"
                ],
                [
                  "4",
                  "25",
                  "Female",
                  "Self-employed",
                  "On-site",
                  "Yes",
                  "Yes",
                  "3",
                  "5.4",
                  "0",
                  "24",
                  "12",
                  "70",
                  "69.0",
                  "High"
                ]
              ],
              "shape": {
                "columns": 14,
                "rows": 5
              }
            },
            "text/html": [
              "<div>\n",
              "<style scoped>\n",
              "    .dataframe tbody tr th:only-of-type {\n",
              "        vertical-align: middle;\n",
              "    }\n",
              "\n",
              "    .dataframe tbody tr th {\n",
              "        vertical-align: top;\n",
              "    }\n",
              "\n",
              "    .dataframe thead th {\n",
              "        text-align: right;\n",
              "    }\n",
              "</style>\n",
              "<table border=\"1\" class=\"dataframe\">\n",
              "  <thead>\n",
              "    <tr style=\"text-align: right;\">\n",
              "      <th></th>\n",
              "      <th>age</th>\n",
              "      <th>gender</th>\n",
              "      <th>employment_status</th>\n",
              "      <th>work_environment</th>\n",
              "      <th>mental_health_history</th>\n",
              "      <th>seeks_treatment</th>\n",
              "      <th>stress_level</th>\n",
              "      <th>sleep_hours</th>\n",
              "      <th>physical_activity_days</th>\n",
              "      <th>depression_score</th>\n",
              "      <th>anxiety_score</th>\n",
              "      <th>social_support_score</th>\n",
              "      <th>productivity_score</th>\n",
              "      <th>mental_health_risk</th>\n",
              "    </tr>\n",
              "  </thead>\n",
              "  <tbody>\n",
              "    <tr>\n",
              "      <th>0</th>\n",
              "      <td>56</td>\n",
              "      <td>Male</td>\n",
              "      <td>Employed</td>\n",
              "      <td>On-site</td>\n",
              "      <td>Yes</td>\n",
              "      <td>Yes</td>\n",
              "      <td>6</td>\n",
              "      <td>6.2</td>\n",
              "      <td>3</td>\n",
              "      <td>28</td>\n",
              "      <td>17</td>\n",
              "      <td>54</td>\n",
              "      <td>59.7</td>\n",
              "      <td>High</td>\n",
              "    </tr>\n",
              "    <tr>\n",
              "      <th>1</th>\n",
              "      <td>46</td>\n",
              "      <td>Female</td>\n",
              "      <td>Student</td>\n",
              "      <td>On-site</td>\n",
              "      <td>No</td>\n",
              "      <td>Yes</td>\n",
              "      <td>10</td>\n",
              "      <td>9.0</td>\n",
              "      <td>4</td>\n",
              "      <td>30</td>\n",
              "      <td>11</td>\n",
              "      <td>85</td>\n",
              "      <td>54.9</td>\n",
              "      <td>High</td>\n",
              "    </tr>\n",
              "    <tr>\n",
              "      <th>2</th>\n",
              "      <td>32</td>\n",
              "      <td>Female</td>\n",
              "      <td>Employed</td>\n",
              "      <td>On-site</td>\n",
              "      <td>Yes</td>\n",
              "      <td>No</td>\n",
              "      <td>7</td>\n",
              "      <td>7.7</td>\n",
              "      <td>2</td>\n",
              "      <td>24</td>\n",
              "      <td>7</td>\n",
              "      <td>62</td>\n",
              "      <td>61.3</td>\n",
              "      <td>Medium</td>\n",
              "    </tr>\n",
              "    <tr>\n",
              "      <th>3</th>\n",
              "      <td>60</td>\n",
              "      <td>Non-binary</td>\n",
              "      <td>Self-employed</td>\n",
              "      <td>On-site</td>\n",
              "      <td>No</td>\n",
              "      <td>No</td>\n",
              "      <td>4</td>\n",
              "      <td>4.5</td>\n",
              "      <td>4</td>\n",
              "      <td>6</td>\n",
              "      <td>0</td>\n",
              "      <td>95</td>\n",
              "      <td>97.0</td>\n",
              "      <td>Low</td>\n",
              "    </tr>\n",
              "    <tr>\n",
              "      <th>4</th>\n",
              "      <td>25</td>\n",
              "      <td>Female</td>\n",
              "      <td>Self-employed</td>\n",
              "      <td>On-site</td>\n",
              "      <td>Yes</td>\n",
              "      <td>Yes</td>\n",
              "      <td>3</td>\n",
              "      <td>5.4</td>\n",
              "      <td>0</td>\n",
              "      <td>24</td>\n",
              "      <td>12</td>\n",
              "      <td>70</td>\n",
              "      <td>69.0</td>\n",
              "      <td>High</td>\n",
              "    </tr>\n",
              "  </tbody>\n",
              "</table>\n",
              "</div>"
            ],
            "text/plain": [
              "   age      gender employment_status work_environment mental_health_history  \\\n",
              "0   56        Male          Employed          On-site                   Yes   \n",
              "1   46      Female           Student          On-site                    No   \n",
              "2   32      Female          Employed          On-site                   Yes   \n",
              "3   60  Non-binary     Self-employed          On-site                    No   \n",
              "4   25      Female     Self-employed          On-site                   Yes   \n",
              "\n",
              "  seeks_treatment  stress_level  sleep_hours  physical_activity_days  \\\n",
              "0             Yes             6          6.2                       3   \n",
              "1             Yes            10          9.0                       4   \n",
              "2              No             7          7.7                       2   \n",
              "3              No             4          4.5                       4   \n",
              "4             Yes             3          5.4                       0   \n",
              "\n",
              "   depression_score  anxiety_score  social_support_score  productivity_score  \\\n",
              "0                28             17                    54                59.7   \n",
              "1                30             11                    85                54.9   \n",
              "2                24              7                    62                61.3   \n",
              "3                 6              0                    95                97.0   \n",
              "4                24             12                    70                69.0   \n",
              "\n",
              "  mental_health_risk  \n",
              "0               High  \n",
              "1               High  \n",
              "2             Medium  \n",
              "3                Low  \n",
              "4               High  "
            ]
          },
          "metadata": {},
          "output_type": "display_data"
        }
      ],
      "source": [
        "import numpy as np\n",
        "import seaborn as sns\n",
        "import matplotlib.pyplot as plt\n",
        "\n",
        "print(\"Dimensões do dataset:\", df.shape)\n",
        "display(df.head())"
      ]
    },
    {
      "cell_type": "code",
      "execution_count": 4,
      "id": "706ba96e",
      "metadata": {
        "colab": {
          "base_uri": "https://localhost:8080/"
        },
        "id": "706ba96e",
        "outputId": "f75a6cf7-1dc5-4f0f-e5ca-2716a8059858"
      },
      "outputs": [
        {
          "name": "stdout",
          "output_type": "stream",
          "text": [
            "\n",
            "Tipos de dados:\n",
            "age                         int64\n",
            "gender                     object\n",
            "employment_status          object\n",
            "work_environment           object\n",
            "mental_health_history      object\n",
            "seeks_treatment            object\n",
            "stress_level                int64\n",
            "sleep_hours               float64\n",
            "physical_activity_days      int64\n",
            "depression_score            int64\n",
            "anxiety_score               int64\n",
            "social_support_score        int64\n",
            "productivity_score        float64\n",
            "mental_health_risk         object\n",
            "dtype: object\n"
          ]
        }
      ],
      "source": [
        "print(\"\\nTipos de dados:\")\n",
        "print(df.dtypes)"
      ]
    },
    {
      "cell_type": "code",
      "execution_count": 5,
      "id": "fbd3719f",
      "metadata": {
        "colab": {
          "base_uri": "https://localhost:8080/"
        },
        "id": "fbd3719f",
        "outputId": "0c4dfe3f-41a5-49a9-8349-95a3da2c99e7"
      },
      "outputs": [
        {
          "name": "stdout",
          "output_type": "stream",
          "text": [
            "\n",
            "Dados faltantes por coluna:\n",
            "age                       0\n",
            "gender                    0\n",
            "employment_status         0\n",
            "work_environment          0\n",
            "mental_health_history     0\n",
            "seeks_treatment           0\n",
            "stress_level              0\n",
            "sleep_hours               0\n",
            "physical_activity_days    0\n",
            "depression_score          0\n",
            "anxiety_score             0\n",
            "social_support_score      0\n",
            "productivity_score        0\n",
            "mental_health_risk        0\n",
            "dtype: int64\n"
          ]
        }
      ],
      "source": [
        "print(\"\\nDados faltantes por coluna:\")\n",
        "print(df.isnull().sum())"
      ]
    },
    {
      "cell_type": "code",
      "execution_count": 6,
      "id": "745dacb0",
      "metadata": {
        "colab": {
          "base_uri": "https://localhost:8080/",
          "height": 449
        },
        "id": "745dacb0",
        "outputId": "c21a8659-b6cf-463d-eb5a-e5c251c305ad"
      },
      "outputs": [
        {
          "name": "stdout",
          "output_type": "stream",
          "text": [
            "\n",
            "Estatísticas descritivas:\n"
          ]
        },
        {
          "data": {
            "application/vnd.microsoft.datawrangler.viewer.v0+json": {
              "columns": [
                {
                  "name": "index",
                  "rawType": "object",
                  "type": "string"
                },
                {
                  "name": "age",
                  "rawType": "float64",
                  "type": "float"
                },
                {
                  "name": "gender",
                  "rawType": "object",
                  "type": "unknown"
                },
                {
                  "name": "employment_status",
                  "rawType": "object",
                  "type": "unknown"
                },
                {
                  "name": "work_environment",
                  "rawType": "object",
                  "type": "unknown"
                },
                {
                  "name": "mental_health_history",
                  "rawType": "object",
                  "type": "unknown"
                },
                {
                  "name": "seeks_treatment",
                  "rawType": "object",
                  "type": "unknown"
                },
                {
                  "name": "stress_level",
                  "rawType": "float64",
                  "type": "float"
                },
                {
                  "name": "sleep_hours",
                  "rawType": "float64",
                  "type": "float"
                },
                {
                  "name": "physical_activity_days",
                  "rawType": "float64",
                  "type": "float"
                },
                {
                  "name": "depression_score",
                  "rawType": "float64",
                  "type": "float"
                },
                {
                  "name": "anxiety_score",
                  "rawType": "float64",
                  "type": "float"
                },
                {
                  "name": "social_support_score",
                  "rawType": "float64",
                  "type": "float"
                },
                {
                  "name": "productivity_score",
                  "rawType": "float64",
                  "type": "float"
                },
                {
                  "name": "mental_health_risk",
                  "rawType": "object",
                  "type": "unknown"
                }
              ],
              "conversionMethod": "pd.DataFrame",
              "ref": "6a473606-ad8d-47ac-abdb-5932bd2ae2ce",
              "rows": [
                [
                  "count",
                  "10000.0",
                  "10000",
                  "10000",
                  "10000",
                  "10000",
                  "10000",
                  "10000.0",
                  "10000.0",
                  "10000.0",
                  "10000.0",
                  "10000.0",
                  "10000.0",
                  "10000.0",
                  "10000"
                ],
                [
                  "unique",
                  null,
                  "4",
                  "4",
                  "3",
                  "2",
                  "2",
                  null,
                  null,
                  null,
                  null,
                  null,
                  null,
                  null,
                  "3"
                ],
                [
                  "top",
                  null,
                  "Male",
                  "Employed",
                  "On-site",
                  "No",
                  "No",
                  null,
                  null,
                  null,
                  null,
                  null,
                  null,
                  null,
                  "Medium"
                ],
                [
                  "freq",
                  null,
                  "4557",
                  "5868",
                  "5044",
                  "6969",
                  "6012",
                  null,
                  null,
                  null,
                  null,
                  null,
                  null,
                  null,
                  "5892"
                ],
                [
                  "mean",
                  "41.5576",
                  null,
                  null,
                  null,
                  null,
                  null,
                  "5.572",
                  "6.472999999999999",
                  "3.5057",
                  "15.0399",
                  "10.5618",
                  "50.1177",
                  "77.31221000000001",
                  null
                ],
                [
                  "std",
                  "13.749581351398808",
                  null,
                  null,
                  null,
                  null,
                  null,
                  "2.8877413154558185",
                  "1.4739437747163566",
                  "2.282737084917991",
                  "8.99083931060671",
                  "6.3226401398335",
                  "29.2292778182797",
                  "14.061201643354151",
                  null
                ],
                [
                  "min",
                  "18.0",
                  null,
                  null,
                  null,
                  null,
                  null,
                  "1.0",
                  "3.0",
                  "0.0",
                  "0.0",
                  "0.0",
                  "0.0",
                  "42.8",
                  null
                ],
                [
                  "25%",
                  "30.0",
                  null,
                  null,
                  null,
                  null,
                  null,
                  "3.0",
                  "5.5",
                  "2.0",
                  "7.0",
                  "5.0",
                  "25.0",
                  "65.8",
                  null
                ],
                [
                  "50%",
                  "41.5",
                  null,
                  null,
                  null,
                  null,
                  null,
                  "6.0",
                  "6.5",
                  "4.0",
                  "15.0",
                  "11.0",
                  "50.0",
                  "77.6",
                  null
                ],
                [
                  "75%",
                  "53.0",
                  null,
                  null,
                  null,
                  null,
                  null,
                  "8.0",
                  "7.5",
                  "5.0",
                  "23.0",
                  "16.0",
                  "76.0",
                  "89.2",
                  null
                ],
                [
                  "max",
                  "65.0",
                  null,
                  null,
                  null,
                  null,
                  null,
                  "10.0",
                  "10.0",
                  "7.0",
                  "30.0",
                  "21.0",
                  "100.0",
                  "100.0",
                  null
                ]
              ],
              "shape": {
                "columns": 14,
                "rows": 11
              }
            },
            "text/html": [
              "<div>\n",
              "<style scoped>\n",
              "    .dataframe tbody tr th:only-of-type {\n",
              "        vertical-align: middle;\n",
              "    }\n",
              "\n",
              "    .dataframe tbody tr th {\n",
              "        vertical-align: top;\n",
              "    }\n",
              "\n",
              "    .dataframe thead th {\n",
              "        text-align: right;\n",
              "    }\n",
              "</style>\n",
              "<table border=\"1\" class=\"dataframe\">\n",
              "  <thead>\n",
              "    <tr style=\"text-align: right;\">\n",
              "      <th></th>\n",
              "      <th>age</th>\n",
              "      <th>gender</th>\n",
              "      <th>employment_status</th>\n",
              "      <th>work_environment</th>\n",
              "      <th>mental_health_history</th>\n",
              "      <th>seeks_treatment</th>\n",
              "      <th>stress_level</th>\n",
              "      <th>sleep_hours</th>\n",
              "      <th>physical_activity_days</th>\n",
              "      <th>depression_score</th>\n",
              "      <th>anxiety_score</th>\n",
              "      <th>social_support_score</th>\n",
              "      <th>productivity_score</th>\n",
              "      <th>mental_health_risk</th>\n",
              "    </tr>\n",
              "  </thead>\n",
              "  <tbody>\n",
              "    <tr>\n",
              "      <th>count</th>\n",
              "      <td>10000.000000</td>\n",
              "      <td>10000</td>\n",
              "      <td>10000</td>\n",
              "      <td>10000</td>\n",
              "      <td>10000</td>\n",
              "      <td>10000</td>\n",
              "      <td>10000.000000</td>\n",
              "      <td>10000.000000</td>\n",
              "      <td>10000.000000</td>\n",
              "      <td>10000.000000</td>\n",
              "      <td>10000.00000</td>\n",
              "      <td>10000.000000</td>\n",
              "      <td>10000.000000</td>\n",
              "      <td>10000</td>\n",
              "    </tr>\n",
              "    <tr>\n",
              "      <th>unique</th>\n",
              "      <td>NaN</td>\n",
              "      <td>4</td>\n",
              "      <td>4</td>\n",
              "      <td>3</td>\n",
              "      <td>2</td>\n",
              "      <td>2</td>\n",
              "      <td>NaN</td>\n",
              "      <td>NaN</td>\n",
              "      <td>NaN</td>\n",
              "      <td>NaN</td>\n",
              "      <td>NaN</td>\n",
              "      <td>NaN</td>\n",
              "      <td>NaN</td>\n",
              "      <td>3</td>\n",
              "    </tr>\n",
              "    <tr>\n",
              "      <th>top</th>\n",
              "      <td>NaN</td>\n",
              "      <td>Male</td>\n",
              "      <td>Employed</td>\n",
              "      <td>On-site</td>\n",
              "      <td>No</td>\n",
              "      <td>No</td>\n",
              "      <td>NaN</td>\n",
              "      <td>NaN</td>\n",
              "      <td>NaN</td>\n",
              "      <td>NaN</td>\n",
              "      <td>NaN</td>\n",
              "      <td>NaN</td>\n",
              "      <td>NaN</td>\n",
              "      <td>Medium</td>\n",
              "    </tr>\n",
              "    <tr>\n",
              "      <th>freq</th>\n",
              "      <td>NaN</td>\n",
              "      <td>4557</td>\n",
              "      <td>5868</td>\n",
              "      <td>5044</td>\n",
              "      <td>6969</td>\n",
              "      <td>6012</td>\n",
              "      <td>NaN</td>\n",
              "      <td>NaN</td>\n",
              "      <td>NaN</td>\n",
              "      <td>NaN</td>\n",
              "      <td>NaN</td>\n",
              "      <td>NaN</td>\n",
              "      <td>NaN</td>\n",
              "      <td>5892</td>\n",
              "    </tr>\n",
              "    <tr>\n",
              "      <th>mean</th>\n",
              "      <td>41.557600</td>\n",
              "      <td>NaN</td>\n",
              "      <td>NaN</td>\n",
              "      <td>NaN</td>\n",
              "      <td>NaN</td>\n",
              "      <td>NaN</td>\n",
              "      <td>5.572000</td>\n",
              "      <td>6.473000</td>\n",
              "      <td>3.505700</td>\n",
              "      <td>15.039900</td>\n",
              "      <td>10.56180</td>\n",
              "      <td>50.117700</td>\n",
              "      <td>77.312210</td>\n",
              "      <td>NaN</td>\n",
              "    </tr>\n",
              "    <tr>\n",
              "      <th>std</th>\n",
              "      <td>13.749581</td>\n",
              "      <td>NaN</td>\n",
              "      <td>NaN</td>\n",
              "      <td>NaN</td>\n",
              "      <td>NaN</td>\n",
              "      <td>NaN</td>\n",
              "      <td>2.887741</td>\n",
              "      <td>1.473944</td>\n",
              "      <td>2.282737</td>\n",
              "      <td>8.990839</td>\n",
              "      <td>6.32264</td>\n",
              "      <td>29.229278</td>\n",
              "      <td>14.061202</td>\n",
              "      <td>NaN</td>\n",
              "    </tr>\n",
              "    <tr>\n",
              "      <th>min</th>\n",
              "      <td>18.000000</td>\n",
              "      <td>NaN</td>\n",
              "      <td>NaN</td>\n",
              "      <td>NaN</td>\n",
              "      <td>NaN</td>\n",
              "      <td>NaN</td>\n",
              "      <td>1.000000</td>\n",
              "      <td>3.000000</td>\n",
              "      <td>0.000000</td>\n",
              "      <td>0.000000</td>\n",
              "      <td>0.00000</td>\n",
              "      <td>0.000000</td>\n",
              "      <td>42.800000</td>\n",
              "      <td>NaN</td>\n",
              "    </tr>\n",
              "    <tr>\n",
              "      <th>25%</th>\n",
              "      <td>30.000000</td>\n",
              "      <td>NaN</td>\n",
              "      <td>NaN</td>\n",
              "      <td>NaN</td>\n",
              "      <td>NaN</td>\n",
              "      <td>NaN</td>\n",
              "      <td>3.000000</td>\n",
              "      <td>5.500000</td>\n",
              "      <td>2.000000</td>\n",
              "      <td>7.000000</td>\n",
              "      <td>5.00000</td>\n",
              "      <td>25.000000</td>\n",
              "      <td>65.800000</td>\n",
              "      <td>NaN</td>\n",
              "    </tr>\n",
              "    <tr>\n",
              "      <th>50%</th>\n",
              "      <td>41.500000</td>\n",
              "      <td>NaN</td>\n",
              "      <td>NaN</td>\n",
              "      <td>NaN</td>\n",
              "      <td>NaN</td>\n",
              "      <td>NaN</td>\n",
              "      <td>6.000000</td>\n",
              "      <td>6.500000</td>\n",
              "      <td>4.000000</td>\n",
              "      <td>15.000000</td>\n",
              "      <td>11.00000</td>\n",
              "      <td>50.000000</td>\n",
              "      <td>77.600000</td>\n",
              "      <td>NaN</td>\n",
              "    </tr>\n",
              "    <tr>\n",
              "      <th>75%</th>\n",
              "      <td>53.000000</td>\n",
              "      <td>NaN</td>\n",
              "      <td>NaN</td>\n",
              "      <td>NaN</td>\n",
              "      <td>NaN</td>\n",
              "      <td>NaN</td>\n",
              "      <td>8.000000</td>\n",
              "      <td>7.500000</td>\n",
              "      <td>5.000000</td>\n",
              "      <td>23.000000</td>\n",
              "      <td>16.00000</td>\n",
              "      <td>76.000000</td>\n",
              "      <td>89.200000</td>\n",
              "      <td>NaN</td>\n",
              "    </tr>\n",
              "    <tr>\n",
              "      <th>max</th>\n",
              "      <td>65.000000</td>\n",
              "      <td>NaN</td>\n",
              "      <td>NaN</td>\n",
              "      <td>NaN</td>\n",
              "      <td>NaN</td>\n",
              "      <td>NaN</td>\n",
              "      <td>10.000000</td>\n",
              "      <td>10.000000</td>\n",
              "      <td>7.000000</td>\n",
              "      <td>30.000000</td>\n",
              "      <td>21.00000</td>\n",
              "      <td>100.000000</td>\n",
              "      <td>100.000000</td>\n",
              "      <td>NaN</td>\n",
              "    </tr>\n",
              "  </tbody>\n",
              "</table>\n",
              "</div>"
            ],
            "text/plain": [
              "                 age gender employment_status work_environment  \\\n",
              "count   10000.000000  10000             10000            10000   \n",
              "unique           NaN      4                 4                3   \n",
              "top              NaN   Male          Employed          On-site   \n",
              "freq             NaN   4557              5868             5044   \n",
              "mean       41.557600    NaN               NaN              NaN   \n",
              "std        13.749581    NaN               NaN              NaN   \n",
              "min        18.000000    NaN               NaN              NaN   \n",
              "25%        30.000000    NaN               NaN              NaN   \n",
              "50%        41.500000    NaN               NaN              NaN   \n",
              "75%        53.000000    NaN               NaN              NaN   \n",
              "max        65.000000    NaN               NaN              NaN   \n",
              "\n",
              "       mental_health_history seeks_treatment  stress_level   sleep_hours  \\\n",
              "count                  10000           10000  10000.000000  10000.000000   \n",
              "unique                     2               2           NaN           NaN   \n",
              "top                       No              No           NaN           NaN   \n",
              "freq                    6969            6012           NaN           NaN   \n",
              "mean                     NaN             NaN      5.572000      6.473000   \n",
              "std                      NaN             NaN      2.887741      1.473944   \n",
              "min                      NaN             NaN      1.000000      3.000000   \n",
              "25%                      NaN             NaN      3.000000      5.500000   \n",
              "50%                      NaN             NaN      6.000000      6.500000   \n",
              "75%                      NaN             NaN      8.000000      7.500000   \n",
              "max                      NaN             NaN     10.000000     10.000000   \n",
              "\n",
              "        physical_activity_days  depression_score  anxiety_score  \\\n",
              "count             10000.000000      10000.000000    10000.00000   \n",
              "unique                     NaN               NaN            NaN   \n",
              "top                        NaN               NaN            NaN   \n",
              "freq                       NaN               NaN            NaN   \n",
              "mean                  3.505700         15.039900       10.56180   \n",
              "std                   2.282737          8.990839        6.32264   \n",
              "min                   0.000000          0.000000        0.00000   \n",
              "25%                   2.000000          7.000000        5.00000   \n",
              "50%                   4.000000         15.000000       11.00000   \n",
              "75%                   5.000000         23.000000       16.00000   \n",
              "max                   7.000000         30.000000       21.00000   \n",
              "\n",
              "        social_support_score  productivity_score mental_health_risk  \n",
              "count           10000.000000        10000.000000              10000  \n",
              "unique                   NaN                 NaN                  3  \n",
              "top                      NaN                 NaN             Medium  \n",
              "freq                     NaN                 NaN               5892  \n",
              "mean               50.117700           77.312210                NaN  \n",
              "std                29.229278           14.061202                NaN  \n",
              "min                 0.000000           42.800000                NaN  \n",
              "25%                25.000000           65.800000                NaN  \n",
              "50%                50.000000           77.600000                NaN  \n",
              "75%                76.000000           89.200000                NaN  \n",
              "max               100.000000          100.000000                NaN  "
            ]
          },
          "metadata": {},
          "output_type": "display_data"
        }
      ],
      "source": [
        "print(\"\\nEstatísticas descritivas:\")\n",
        "display(df.describe(include='all'))"
      ]
    },
    {
      "cell_type": "code",
      "execution_count": 7,
      "id": "f9602374",
      "metadata": {
        "colab": {
          "base_uri": "https://localhost:8080/"
        },
        "id": "f9602374",
        "outputId": "3ae59d90-05b0-4508-ebea-eadb6c23bc55"
      },
      "outputs": [
        {
          "name": "stdout",
          "output_type": "stream",
          "text": [
            "\n",
            "Valores únicos por coluna:\n",
            "age: [56 46 32 60 25 38 36 40 28 41 53 57 20 39 19 61 47 55 50 29 42 44 59 45\n",
            " 33 64 54 24 26 35 21 31 43 37 52 34 23 51 27 48 65 62 58 18 22 30 49 63]\n",
            "gender: ['Male' 'Female' 'Non-binary' 'Prefer not to say']\n",
            "employment_status: ['Employed' 'Student' 'Self-employed' 'Unemployed']\n",
            "work_environment: ['On-site' 'Remote' 'Hybrid']\n",
            "mental_health_history: ['Yes' 'No']\n",
            "seeks_treatment: ['Yes' 'No']\n",
            "stress_level: [ 6 10  7  4  3  2  8  5  1  9]\n",
            "sleep_hours: [ 6.2  9.   7.7  4.5  5.4  9.9  5.5  7.1  6.5  3.1  9.7  4.4  5.1  8.\n",
            "  6.7  8.7  9.8  8.2  7.3  5.6  5.8  7.8  8.9  7.   5.3  7.9  4.8  4.7\n",
            "  5.7  6.1  7.6  5.   6.4  6.8  8.5  7.2  8.6  8.4  6.3  4.9  6.9  3.7\n",
            "  4.6  7.4  9.2  7.5  4.1  8.8  9.1  4.   3.   5.9  5.2  4.3  3.2  6.6\n",
            "  8.1  6.   3.5  3.9 10.   9.3  9.5  9.6  4.2  8.3  3.3  9.4  3.8  3.6\n",
            "  3.4]\n",
            "physical_activity_days: [3 4 2 0 1 5 6 7]\n",
            "depression_score: [28 30 24  6 17 25  7 14 13 15  5 22 21  3  2 12 11  8  4  0 23 20 29 26\n",
            "  1 16 27 18 19 10  9]\n",
            "anxiety_score: [17 11  7  0 12  9  3  8  6 18  2 21 14  4 16  5 13 15 10 19  1 20]\n",
            "social_support_score: [ 54  85  62  95  70  63  87  72  46  88  23  43   6  52  22  64  36  99\n",
            "  68  41  84  14  65  17  39  78  58  74  75  98  31   9  11  86  90   0\n",
            "  96  18  10  48  67  66  47   8  38   5  53   2  12  61  79  15  89  27\n",
            "  80  26  34  16  45  32  28  57  94  76  81  30  97  56  93 100  82  55\n",
            "  83  59  69  35  19  91  40  49  29  60   1  44   3  21   7  33  20  42\n",
            "  13  51  24   4  71  73  50  37  25  92  77]\n",
            "productivity_score: [ 59.7  54.9  61.3  97.   69.   69.3  63.1  58.4  60.4  93.2  71.2  80.1\n",
            "  79.6  93.   75.9  59.1  85.8  64.1  84.8  98.6  81.4  84.   90.6  96.7\n",
            "  80.8  62.1  89.9  99.5  71.1  71.4  56.7  68.3  62.7  97.1  92.6  80.9\n",
            "  76.1  78.7  81.6  51.7 100.   67.9  96.1  61.6  91.7  86.2  67.3  95.9\n",
            "  75.8  66.3  63.8  64.6  93.8  66.9  68.8  97.3  85.6  74.1  95.7  73.7\n",
            "  54.1  68.4  53.2  84.2  78.5  62.6  58.7  91.3  80.4  89.   86.   81.7\n",
            "  87.   59.   52.9  82.9  87.5  80.5  83.6  72.8  80.6  91.5  97.2  70.8\n",
            "  89.7  79.3  84.1  81.2  70.2  79.2  51.3  81.3  90.4  70.9  63.3  92.3\n",
            "  50.8  63.7  87.8  79.5  73.3  95.2  96.9  56.   78.1  65.4  75.5  72.4\n",
            "  86.5  94.9  65.8  61.5  90.7  89.5  82.5  85.4  98.4  86.7  56.9  67.4\n",
            "  70.   58.   98.2  84.4  82.7  86.9  86.8  57.7  60.9  87.1  52.   93.9\n",
            "  72.6  79.7  57.1  99.4  64.9  92.2  75.3  66.5  68.1  53.9  76.9  96.\n",
            "  92.5  69.2  55.1  90.1  88.   79.1  76.2  72.9  71.7  65.7  99.   88.7\n",
            "  85.3  86.1  64.   83.1  58.5  81.9  64.7  62.2  84.3  96.4  80.   72.5\n",
            "  67.2  57.8  74.3  60.2  76.   90.5  94.3  95.5  87.7  70.5  54.6  74.4\n",
            "  63.4  84.6  61.9  75.2  55.   81.   70.1  88.9  93.1  69.1  65.2  60.1\n",
            "  77.5  52.8  55.5  78.   93.6  63.6  71.3  92.8  64.3  88.1  89.3  66.1\n",
            "  46.4  50.9  54.3  56.4  84.9  77.7  72.2  90.   97.7  75.4  97.6  71.9\n",
            "  61.7  94.   82.2  99.6  69.9  71.   92.4  51.1  63.5  67.5  88.8  68.6\n",
            "  69.6  78.8  65.3  70.4  55.9  61.2  58.3  55.7  60.3  74.   83.   73.1\n",
            "  95.1  68.2  89.6  55.2  74.2  82.1  78.2  60.7  58.6  73.8  85.1  71.6\n",
            "  72.3  59.3  82.4  91.2  57.   65.1  74.7  89.2  85.2  86.4  67.7  60.5\n",
            "  83.7  72.   75.   82.8  51.4  74.8  53.4  73.2  62.3  87.6  98.9  59.2\n",
            "  90.8  62.4  61.4  68.9  50.3  90.9  97.8  77.3  89.1  94.6  87.9  61.1\n",
            "  65.9  89.8  66.   68.5  88.5  79.8  66.7  52.7  92.   63.2  78.6  66.4\n",
            "  82.6  62.8  65.6  83.4  71.8  90.2  85.5  65.   97.5  74.9  71.5  98.5\n",
            "  60.8  84.7  96.3  47.3  92.9  68.7  49.4  99.2  85.   64.8  46.7  75.7\n",
            "  87.3  94.7  77.2  66.6  91.8  77.1  56.8  98.1  55.4  58.8  91.4  69.8\n",
            "  88.4  96.2  66.2  68.   91.   67.   80.3  80.7  51.8  72.7  81.8  93.4\n",
            "  77.9  99.7  67.1  70.3  64.2  52.5  79.4  94.5  49.7  60.   93.7  77.4\n",
            "  69.7  73.5  54.2  82.   47.4  69.4  94.8  72.1  86.3  48.1  83.2  91.9\n",
            "  67.6  58.9  94.4  47.   53.6  81.1  85.7  77.8  63.9  97.9  79.   63.\n",
            "  75.1  73.4  80.2  62.5  96.5  89.4  52.2  76.7  78.4  76.5  53.1  57.3\n",
            "  93.3  87.2  83.8  83.5  57.5  76.4  56.6  82.3  51.2  98.3  58.1  97.4\n",
            "  93.5  69.5  62.   60.6  95.3  94.1  74.6  55.8  99.1  76.8  61.   59.8\n",
            "  83.3  53.   78.3  88.3  76.6  65.5  91.1  52.6  50.2  95.   57.6  53.7\n",
            "  56.3  84.5  62.9  75.6  98.   56.1  67.8  53.8  50.5  59.9  49.8  88.2\n",
            "  81.5  92.1  70.7  78.9  96.6  99.3  61.8  66.8  46.8  73.6  57.2  77.\n",
            "  73.   53.3  64.4  76.3  50.6  74.5  79.9  73.9  54.   49.   95.8  58.2\n",
            "  99.9  87.4  55.6  51.9  77.6  59.6  91.6  49.2  92.7  50.1  90.3  83.9\n",
            "  70.6  94.2  64.5  49.9  56.2  59.5  52.3  46.9  85.9  53.5  57.9  95.4\n",
            "  50.7  98.8  96.8  54.4  43.6  54.7  51.6  55.3  49.6  49.1  59.4  86.6\n",
            "  51.   88.6  44.6  50.4  54.5  54.8  47.5  45.9  52.1  57.4  44.4  48.3\n",
            "  99.8  48.8  47.2  47.1  98.7  49.5  44.8  45.2  51.5  95.6  56.5  48.4\n",
            "  48.2  52.4  48.9  49.3  50.   46.3  45.1  47.9  45.6  48.5  48.   47.8\n",
            "  46.2  45.3  46.6  48.7  48.6  42.8]\n",
            "mental_health_risk: ['High' 'Medium' 'Low']\n"
          ]
        }
      ],
      "source": [
        "print(\"\\nValores únicos por coluna:\")\n",
        "for col in df.columns:\n",
        "    print(f\"{col}: {df[col].unique()}\")"
      ]
    },
    {
      "cell_type": "code",
      "execution_count": 8,
      "id": "87867758",
      "metadata": {
        "colab": {
          "base_uri": "https://localhost:8080/"
        },
        "id": "87867758",
        "outputId": "75ec40a1-0ca2-4aff-b54d-f2134d47c731"
      },
      "outputs": [
        {
          "name": "stdout",
          "output_type": "stream",
          "text": [
            "\n",
            "Distribuição de valores em 'gender':\n",
            "gender\n",
            "Male                 4557\n",
            "Female               4457\n",
            "Non-binary            520\n",
            "Prefer not to say     466\n",
            "Name: count, dtype: int64\n",
            "\n",
            "Distribuição de valores em 'employment_status':\n",
            "employment_status\n",
            "Employed         5868\n",
            "Student          2043\n",
            "Self-employed    1045\n",
            "Unemployed       1044\n",
            "Name: count, dtype: int64\n",
            "\n",
            "Distribuição de valores em 'work_environment':\n",
            "work_environment\n",
            "On-site    5044\n",
            "Remote     3009\n",
            "Hybrid     1947\n",
            "Name: count, dtype: int64\n",
            "\n",
            "Distribuição de valores em 'mental_health_history':\n",
            "mental_health_history\n",
            "No     6969\n",
            "Yes    3031\n",
            "Name: count, dtype: int64\n",
            "\n",
            "Distribuição de valores em 'seeks_treatment':\n",
            "seeks_treatment\n",
            "No     6012\n",
            "Yes    3988\n",
            "Name: count, dtype: int64\n",
            "\n",
            "Distribuição de valores em 'mental_health_risk':\n",
            "mental_health_risk\n",
            "Medium    5892\n",
            "High      2369\n",
            "Low       1739\n",
            "Name: count, dtype: int64\n"
          ]
        }
      ],
      "source": [
        "categorical_cols = ['gender', 'employment_status', 'work_environment', 'mental_health_history', 'seeks_treatment', 'mental_health_risk']\n",
        "for col in categorical_cols:\n",
        "    print(f\"\\nDistribuição de valores em '{col}':\")\n",
        "    print(df[col].value_counts(dropna=False))"
      ]
    },
    {
      "cell_type": "code",
      "execution_count": 9,
      "id": "d9cc87db",
      "metadata": {
        "colab": {
          "base_uri": "https://localhost:8080/",
          "height": 1000
        },
        "id": "d9cc87db",
        "outputId": "7f551f8f-4ff7-4172-b947-b28f3289fdb4"
      },
      "outputs": [
        {
          "data": {
            "image/png": "[encoded data removed]",
            "text/plain": [
              "<Figure size 600x150 with 1 Axes>"
            ]
          },
          "metadata": {},
          "output_type": "display_data"
        },
        {
          "data": {
            "image/png": "[encoded data removed]",
            "text/plain": [
              "<Figure size 600x150 with 1 Axes>"
            ]
          },
          "metadata": {},
          "output_type": "display_data"
        },
        {
          "data": {
            "image/png": "[encoded data removed]",
            "text/plain": [
              "<Figure size 600x150 with 1 Axes>"
            ]
          },
          "metadata": {},
          "output_type": "display_data"
        },
        {
          "data": {
            "image/png": "[encoded data removed]",
            "text/plain": [
              "<Figure size 600x150 with 1 Axes>"
            ]
          },
          "metadata": {},
          "output_type": "display_data"
        },
        {
          "data": {
            "image/png": "[encoded data removed]",
            "text/plain": [
              "<Figure size 600x150 with 1 Axes>"
            ]
          },
          "metadata": {},
          "output_type": "display_data"
        },
        {
          "data": {
            "image/png": "[encoded data removed]",
            "text/plain": [
              "<Figure size 600x150 with 1 Axes>"
            ]
          },
          "metadata": {},
          "output_type": "display_data"
        },
        {
          "data": {
            "image/png": "[encoded data removed]",
            "text/plain": [
              "<Figure size 600x150 with 1 Axes>"
            ]
          },
          "metadata": {},
          "output_type": "display_data"
        },
        {
          "data": {
            "image/png": "[encoded data removed]",
            "text/plain": [
              "<Figure size 600x150 with 1 Axes>"
            ]
          },
          "metadata": {},
          "output_type": "display_data"
        }
      ],
      "source": [
        "numeric_cols = df.select_dtypes(include=['int64', 'float64']).columns\n",
        "for col in numeric_cols:\n",
        "    plt.figure(figsize=(6, 1.5))\n",
        "    sns.boxplot(data=df, x=col)\n",
        "    plt.title(f'Boxplot - {col}')\n",
        "    plt.show()"
      ]
    },
    {
      "cell_type": "code",
      "execution_count": 10,
      "id": "826aed36",
      "metadata": {
        "colab": {
          "base_uri": "https://localhost:8080/",
          "height": 686
        },
        "id": "826aed36",
        "outputId": "4b4f76c8-0b8c-4fed-9d81-40dfed7f8305"
      },
      "outputs": [
        {
          "data": {
            "image/png": "[encoded data removed]",
            "text/plain": [
              "<Figure size 1000x600 with 2 Axes>"
            ]
          },
          "metadata": {},
          "output_type": "display_data"
        }
      ],
      "source": [
        "plt.figure(figsize=(10, 6))\n",
        "sns.heatmap(df[numeric_cols].corr(), annot=True, cmap='coolwarm')\n",
        "plt.title('Matriz de Correlação')\n",
        "plt.show()"
      ]
    },
    {
      "cell_type": "code",
      "execution_count": 11,
      "id": "0879c2dc",
      "metadata": {},
      "outputs": [
        {
          "name": "stdout",
          "output_type": "stream",
          "text": [
            "Acurácia: 0.9805\n",
            "              precision    recall  f1-score   support\n",
            "\n",
            "           0       1.00      0.97      0.98       475\n",
            "           1       0.97      0.96      0.97       359\n",
            "           2       0.97      0.99      0.98      1166\n",
            "\n",
            "    accuracy                           0.98      2000\n",
            "   macro avg       0.98      0.97      0.98      2000\n",
            "weighted avg       0.98      0.98      0.98      2000\n",
            "\n"
          ]
        }
      ],
      "source": [
        "from sklearn.model_selection import train_test_split\n",
        "from sklearn.ensemble import RandomForestClassifier\n",
        "from sklearn.preprocessing import LabelEncoder\n",
        "from sklearn.metrics import classification_report, accuracy_score\n",
        "\n",
        "X = df.drop('mental_health_risk', axis=1)\n",
        "y = df['mental_health_risk']\n",
        "\n",
        "\n",
        "for col in X.select_dtypes(include=['object']).columns:\n",
        "    X[col] = LabelEncoder().fit_transform(X[col])\n",
        "\n",
        "le = LabelEncoder()\n",
        "y = le.fit_transform(y)\n",
        "\n",
        "X_train, X_test, y_train, y_test = train_test_split(X, y, test_size=0.2, random_state=42)\n",
        "\n",
        "clf = RandomForestClassifier(random_state=42)\n",
        "clf.fit(X_train, y_train)\n",
        "\n",
        "\n",
        "y_pred = clf.predict(X_test)\n",
        "print(\"Acurácia:\", accuracy_score(y_test, y_pred))\n",
        "print(classification_report(y_test, y_pred))"
      ]
    },
    {
      "cell_type": "code",
      "execution_count": 19,
      "id": "55b9a368",
      "metadata": {},
      "outputs": [
        {
          "data": {
            "image/png": "[encoded data removed]",
            "text/plain": [
              "<Figure size 1000x600 with 1 Axes>"
            ]
          },
          "metadata": {},
          "output_type": "display_data"
        }
      ],
      "source": [
        "importances = clf.feature_importances_\n",
        "\n",
        "# Criar DataFrame com os nomes das colunas e suas importâncias\n",
        "feature_names = X.columns\n",
        "feat_imp_df = pd.DataFrame({'Feature': feature_names, 'Importance': importances})\n",
        "\n",
        "# Ordenar por importância\n",
        "feat_imp_df = feat_imp_df.sort_values(by='Importance', ascending=False)\n",
        "\n",
        "# Plotar\n",
        "plt.figure(figsize=(10, 6))\n",
        "plt.barh(feat_imp_df['Feature'], feat_imp_df['Importance'], color='skyblue')\n",
        "plt.xlabel('Importância')\n",
        "plt.ylabel('Variável')\n",
        "plt.title('Importância das Variáveis na Classificação do Risco de Saúde Mental')\n",
        "plt.gca().invert_yaxis()  # Coloca a mais importante no topo\n",
        "plt.tight_layout()\n",
        "plt.show()"
      ]
    },
    {
      "cell_type": "markdown",
      "id": "584809da",
      "metadata": {},
      "source": [
        "## Considerações sobre Classificação\n",
        "\n",
        "A aplicação do modelo de classificação, utilizando o algoritmo Random Forest, mostrou-se eficaz na previsão do risco à saúde mental com base nas variáveis disponíveis no dataset. Após o pré-processamento adequado dos dados – incluindo a codificação de variáveis categóricas com LabelEncoder – o modelo conseguiu generalizar bem sobre os dados gerados, atribuindo categorias de risco coerentes de acordo com os padrões previamente aprendidos."
      ]
    },
    {
      "cell_type": "code",
      "execution_count": 12,
      "id": "452c1aab",
      "metadata": {},
      "outputs": [
        {
          "name": "stdout",
          "output_type": "stream",
          "text": [
            "Min Idade: 18, Max Idade: 65\n",
            "Min Estresse: 1, Max Estresse: 10\n",
            "Min Horas de sono: 3.0, Max Horas de sono: 10.0\n",
            "Min Dias de atividade física: 0, Max Dias de atividade física: 7\n",
            "Min Pontuação de depressão: 0, Max Pontuação de depressão: 30\n",
            "Min Pontuação de ansiedade: 0, Max Pontuação de ansiedade: 21\n",
            "Min Pontuação de suporte social: 0, Max Pontuação de suporte social: 100\n",
            "Min Pontuação de produtividade: 42.8, Max Pontuação de produtividade: 100.0\n",
            "\n",
            "Dados gerados:\n"
          ]
        },
        {
          "data": {
            "application/vnd.microsoft.datawrangler.viewer.v0+json": {
              "columns": [
                {
                  "name": "index",
                  "rawType": "int64",
                  "type": "integer"
                },
                {
                  "name": "age",
                  "rawType": "int64",
                  "type": "integer"
                },
                {
                  "name": "gender",
                  "rawType": "object",
                  "type": "string"
                },
                {
                  "name": "employment_status",
                  "rawType": "object",
                  "type": "string"
                },
                {
                  "name": "work_environment",
                  "rawType": "object",
                  "type": "string"
                },
                {
                  "name": "mental_health_history",
                  "rawType": "object",
                  "type": "string"
                },
                {
                  "name": "seeks_treatment",
                  "rawType": "object",
                  "type": "string"
                },
                {
                  "name": "stress_level",
                  "rawType": "float64",
                  "type": "float"
                },
                {
                  "name": "sleep_hours",
                  "rawType": "float64",
                  "type": "float"
                },
                {
                  "name": "physical_activity_days",
                  "rawType": "int64",
                  "type": "integer"
                },
                {
                  "name": "depression_score",
                  "rawType": "int64",
                  "type": "integer"
                },
                {
                  "name": "anxiety_score",
                  "rawType": "int64",
                  "type": "integer"
                },
                {
                  "name": "social_support_score",
                  "rawType": "int64",
                  "type": "integer"
                },
                {
                  "name": "productivity_score",
                  "rawType": "float64",
                  "type": "float"
                }
              ],
              "conversionMethod": "pd.DataFrame",
              "ref": "5c4df27a-eaea-46ec-a825-219b38bd5b82",
              "rows": [
                [
                  "0",
                  "23",
                  "Prefer not to say",
                  "Student",
                  "Remote",
                  "Yes",
                  "No",
                  "9.1",
                  "9.4",
                  "1",
                  "12",
                  "11",
                  "74",
                  "92.7"
                ],
                [
                  "1",
                  "29",
                  "Prefer not to say",
                  "Self-employed",
                  "Hybrid",
                  "No",
                  "Yes",
                  "9.1",
                  "9.4",
                  "1",
                  "18",
                  "5",
                  "51",
                  "92.7"
                ],
                [
                  "2",
                  "43",
                  "Prefer not to say",
                  "Unemployed",
                  "Remote",
                  "Yes",
                  "No",
                  "9.1",
                  "9.4",
                  "0",
                  "6",
                  "16",
                  "23",
                  "92.7"
                ],
                [
                  "3",
                  "35",
                  "Female",
                  "Employed",
                  "On-site",
                  "No",
                  "No",
                  "9.1",
                  "9.4",
                  "1",
                  "21",
                  "4",
                  "49",
                  "92.7"
                ],
                [
                  "4",
                  "25",
                  "Female",
                  "Self-employed",
                  "Hybrid",
                  "No",
                  "No",
                  "9.1",
                  "9.4",
                  "2",
                  "17",
                  "9",
                  "65",
                  "92.7"
                ]
              ],
              "shape": {
                "columns": 13,
                "rows": 5
              }
            },
            "text/html": [
              "<div>\n",
              "<style scoped>\n",
              "    .dataframe tbody tr th:only-of-type {\n",
              "        vertical-align: middle;\n",
              "    }\n",
              "\n",
              "    .dataframe tbody tr th {\n",
              "        vertical-align: top;\n",
              "    }\n",
              "\n",
              "    .dataframe thead th {\n",
              "        text-align: right;\n",
              "    }\n",
              "</style>\n",
              "<table border=\"1\" class=\"dataframe\">\n",
              "  <thead>\n",
              "    <tr style=\"text-align: right;\">\n",
              "      <th></th>\n",
              "      <th>age</th>\n",
              "      <th>gender</th>\n",
              "      <th>employment_status</th>\n",
              "      <th>work_environment</th>\n",
              "      <th>mental_health_history</th>\n",
              "      <th>seeks_treatment</th>\n",
              "      <th>stress_level</th>\n",
              "      <th>sleep_hours</th>\n",
              "      <th>physical_activity_days</th>\n",
              "      <th>depression_score</th>\n",
              "      <th>anxiety_score</th>\n",
              "      <th>social_support_score</th>\n",
              "      <th>productivity_score</th>\n",
              "    </tr>\n",
              "  </thead>\n",
              "  <tbody>\n",
              "    <tr>\n",
              "      <th>0</th>\n",
              "      <td>23</td>\n",
              "      <td>Prefer not to say</td>\n",
              "      <td>Student</td>\n",
              "      <td>Remote</td>\n",
              "      <td>Yes</td>\n",
              "      <td>No</td>\n",
              "      <td>9.1</td>\n",
              "      <td>9.4</td>\n",
              "      <td>1</td>\n",
              "      <td>12</td>\n",
              "      <td>11</td>\n",
              "      <td>74</td>\n",
              "      <td>92.7</td>\n",
              "    </tr>\n",
              "    <tr>\n",
              "      <th>1</th>\n",
              "      <td>29</td>\n",
              "      <td>Prefer not to say</td>\n",
              "      <td>Self-employed</td>\n",
              "      <td>Hybrid</td>\n",
              "      <td>No</td>\n",
              "      <td>Yes</td>\n",
              "      <td>9.1</td>\n",
              "      <td>9.4</td>\n",
              "      <td>1</td>\n",
              "      <td>18</td>\n",
              "      <td>5</td>\n",
              "      <td>51</td>\n",
              "      <td>92.7</td>\n",
              "    </tr>\n",
              "    <tr>\n",
              "      <th>2</th>\n",
              "      <td>43</td>\n",
              "      <td>Prefer not to say</td>\n",
              "      <td>Unemployed</td>\n",
              "      <td>Remote</td>\n",
              "      <td>Yes</td>\n",
              "      <td>No</td>\n",
              "      <td>9.1</td>\n",
              "      <td>9.4</td>\n",
              "      <td>0</td>\n",
              "      <td>6</td>\n",
              "      <td>16</td>\n",
              "      <td>23</td>\n",
              "      <td>92.7</td>\n",
              "    </tr>\n",
              "    <tr>\n",
              "      <th>3</th>\n",
              "      <td>35</td>\n",
              "      <td>Female</td>\n",
              "      <td>Employed</td>\n",
              "      <td>On-site</td>\n",
              "      <td>No</td>\n",
              "      <td>No</td>\n",
              "      <td>9.1</td>\n",
              "      <td>9.4</td>\n",
              "      <td>1</td>\n",
              "      <td>21</td>\n",
              "      <td>4</td>\n",
              "      <td>49</td>\n",
              "      <td>92.7</td>\n",
              "    </tr>\n",
              "    <tr>\n",
              "      <th>4</th>\n",
              "      <td>25</td>\n",
              "      <td>Female</td>\n",
              "      <td>Self-employed</td>\n",
              "      <td>Hybrid</td>\n",
              "      <td>No</td>\n",
              "      <td>No</td>\n",
              "      <td>9.1</td>\n",
              "      <td>9.4</td>\n",
              "      <td>2</td>\n",
              "      <td>17</td>\n",
              "      <td>9</td>\n",
              "      <td>65</td>\n",
              "      <td>92.7</td>\n",
              "    </tr>\n",
              "  </tbody>\n",
              "</table>\n",
              "</div>"
            ],
            "text/plain": [
              "   age             gender employment_status work_environment  \\\n",
              "0   23  Prefer not to say           Student           Remote   \n",
              "1   29  Prefer not to say     Self-employed           Hybrid   \n",
              "2   43  Prefer not to say        Unemployed           Remote   \n",
              "3   35             Female          Employed          On-site   \n",
              "4   25             Female     Self-employed           Hybrid   \n",
              "\n",
              "  mental_health_history seeks_treatment  stress_level  sleep_hours  \\\n",
              "0                   Yes              No           9.1          9.4   \n",
              "1                    No             Yes           9.1          9.4   \n",
              "2                   Yes              No           9.1          9.4   \n",
              "3                    No              No           9.1          9.4   \n",
              "4                    No              No           9.1          9.4   \n",
              "\n",
              "   physical_activity_days  depression_score  anxiety_score  \\\n",
              "0                       1                12             11   \n",
              "1                       1                18              5   \n",
              "2                       0                 6             16   \n",
              "3                       1                21              4   \n",
              "4                       2                17              9   \n",
              "\n",
              "   social_support_score  productivity_score  \n",
              "0                    74                92.7  \n",
              "1                    51                92.7  \n",
              "2                    23                92.7  \n",
              "3                    49                92.7  \n",
              "4                    65                92.7  "
            ]
          },
          "metadata": {},
          "output_type": "display_data"
        }
      ],
      "source": [
        "categoricals = {\n",
        "    col: df[col].unique().tolist()\n",
        "    for col in [\"gender\", \"employment_status\", \"work_environment\", \"mental_health_history\", \"seeks_treatment\"]\n",
        "}\n",
        "\n",
        "n = 100\n",
        "generated = pd.DataFrame({\n",
        "    \"age\": np.random.randint(df[\"age\"].min(), df[\"age\"].max()+1, size=n),\n",
        "    \"gender\": np.random.choice(categoricals[\"gender\"], size=n),\n",
        "    \"employment_status\": np.random.choice(categoricals[\"employment_status\"], size=n),\n",
        "    \"work_environment\": np.random.choice(categoricals[\"work_environment\"], size=n),\n",
        "    \"mental_health_history\": np.random.choice(categoricals[\"mental_health_history\"], size=n),\n",
        "    \"seeks_treatment\": np.random.choice(categoricals[\"seeks_treatment\"], size=n),\n",
        "    \"stress_level\": np.round(np.random.uniform(df[\"stress_level\"].min(), df[\"stress_level\"].max()), 1),\n",
        "    \"sleep_hours\": np.round(np.random.normal(df[\"sleep_hours\"].mean(), df[\"sleep_hours\"].std()), 1),\n",
        "    \"physical_activity_days\": np.random.randint(df[\"physical_activity_days\"].min(), df[\"physical_activity_days\"].max()+1, size=n),\n",
        "    \"depression_score\": np.random.randint(df[\"depression_score\"].min(), df[\"depression_score\"].max()+1, size=n),\n",
        "    \"anxiety_score\": np.random.randint(df[\"anxiety_score\"].min(), df[\"anxiety_score\"].max()+1, size=n),\n",
        "    \"social_support_score\": np.random.randint(df[\"social_support_score\"].min(), df[\"social_support_score\"].max()+1, size=n),\n",
        "    \"productivity_score\": np.round(np.random.uniform(df[\"productivity_score\"].min(), df[\"productivity_score\"].max()), 1),\n",
        "})\n",
        "\n",
        "print(f\"Min Idade: {df['age'].min()}, Max Idade: {df['age'].max()}\")\n",
        "print(f\"Min Estresse: {df['stress_level'].min()}, Max Estresse: {df['stress_level'].max()}\")\n",
        "print(f\"Min Horas de sono: {df['sleep_hours'].min()}, Max Horas de sono: {df['sleep_hours'].max()}\")\n",
        "print(f\"Min Dias de atividade física: {df['physical_activity_days'].min()}, Max Dias de atividade física: {df['physical_activity_days'].max()}\")\n",
        "print(f\"Min Pontuação de depressão: {df['depression_score'].min()}, Max Pontuação de depressão: {df['depression_score'].max()}\")\n",
        "print(f\"Min Pontuação de ansiedade: {df['anxiety_score'].min()}, Max Pontuação de ansiedade: {df['anxiety_score'].max()}\")\n",
        "print(f\"Min Pontuação de suporte social: {df['social_support_score'].min()}, Max Pontuação de suporte social: {df['social_support_score'].max()}\")\n",
        "print(f\"Min Pontuação de produtividade: {df['productivity_score'].min()}, Max Pontuação de produtividade: {df['productivity_score'].max()}\")\n",
        "\n",
        "\n",
        "print(\"\\nDados gerados:\")\n",
        "display(generated.head())"
      ]
    },
    {
      "cell_type": "code",
      "execution_count": 13,
      "id": "b49a07ed",
      "metadata": {},
      "outputs": [
        {
          "name": "stdout",
          "output_type": "stream",
          "text": [
            "\n",
            "Dados gerados com previsão de risco de saúde mental:\n"
          ]
        },
        {
          "data": {
            "application/vnd.microsoft.datawrangler.viewer.v0+json": {
              "columns": [
                {
                  "name": "index",
                  "rawType": "int64",
                  "type": "integer"
                },
                {
                  "name": "age",
                  "rawType": "int64",
                  "type": "integer"
                },
                {
                  "name": "gender",
                  "rawType": "int64",
                  "type": "integer"
                },
                {
                  "name": "employment_status",
                  "rawType": "int64",
                  "type": "integer"
                },
                {
                  "name": "work_environment",
                  "rawType": "int64",
                  "type": "integer"
                },
                {
                  "name": "mental_health_history",
                  "rawType": "int64",
                  "type": "integer"
                },
                {
                  "name": "seeks_treatment",
                  "rawType": "int64",
                  "type": "integer"
                },
                {
                  "name": "stress_level",
                  "rawType": "float64",
                  "type": "float"
                },
                {
                  "name": "sleep_hours",
                  "rawType": "float64",
                  "type": "float"
                },
                {
                  "name": "physical_activity_days",
                  "rawType": "int64",
                  "type": "integer"
                },
                {
                  "name": "depression_score",
                  "rawType": "int64",
                  "type": "integer"
                },
                {
                  "name": "anxiety_score",
                  "rawType": "int64",
                  "type": "integer"
                },
                {
                  "name": "social_support_score",
                  "rawType": "int64",
                  "type": "integer"
                },
                {
                  "name": "productivity_score",
                  "rawType": "float64",
                  "type": "float"
                },
                {
                  "name": "mental_health_risk",
                  "rawType": "object",
                  "type": "string"
                }
              ],
              "conversionMethod": "pd.DataFrame",
              "ref": "aceff06e-f18a-4591-bdd8-253ea42934bc",
              "rows": [
                [
                  "0",
                  "23",
                  "3",
                  "2",
                  "2",
                  "1",
                  "0",
                  "9.1",
                  "9.4",
                  "1",
                  "12",
                  "11",
                  "74",
                  "92.7",
                  "Medium"
                ],
                [
                  "1",
                  "29",
                  "3",
                  "1",
                  "0",
                  "0",
                  "1",
                  "9.1",
                  "9.4",
                  "1",
                  "18",
                  "5",
                  "51",
                  "92.7",
                  "Medium"
                ],
                [
                  "2",
                  "43",
                  "3",
                  "3",
                  "2",
                  "1",
                  "0",
                  "9.1",
                  "9.4",
                  "0",
                  "6",
                  "16",
                  "23",
                  "92.7",
                  "Medium"
                ],
                [
                  "3",
                  "35",
                  "0",
                  "0",
                  "1",
                  "0",
                  "0",
                  "9.1",
                  "9.4",
                  "1",
                  "21",
                  "4",
                  "49",
                  "92.7",
                  "Medium"
                ],
                [
                  "4",
                  "25",
                  "0",
                  "1",
                  "0",
                  "0",
                  "0",
                  "9.1",
                  "9.4",
                  "2",
                  "17",
                  "9",
                  "65",
                  "92.7",
                  "Medium"
                ]
              ],
              "shape": {
                "columns": 14,
                "rows": 5
              }
            },
            "text/html": [
              "<div>\n",
              "<style scoped>\n",
              "    .dataframe tbody tr th:only-of-type {\n",
              "        vertical-align: middle;\n",
              "    }\n",
              "\n",
              "    .dataframe tbody tr th {\n",
              "        vertical-align: top;\n",
              "    }\n",
              "\n",
              "    .dataframe thead th {\n",
              "        text-align: right;\n",
              "    }\n",
              "</style>\n",
              "<table border=\"1\" class=\"dataframe\">\n",
              "  <thead>\n",
              "    <tr style=\"text-align: right;\">\n",
              "      <th></th>\n",
              "      <th>age</th>\n",
              "      <th>gender</th>\n",
              "      <th>employment_status</th>\n",
              "      <th>work_environment</th>\n",
              "      <th>mental_health_history</th>\n",
              "      <th>seeks_treatment</th>\n",
              "      <th>stress_level</th>\n",
              "      <th>sleep_hours</th>\n",
              "      <th>physical_activity_days</th>\n",
              "      <th>depression_score</th>\n",
              "      <th>anxiety_score</th>\n",
              "      <th>social_support_score</th>\n",
              "      <th>productivity_score</th>\n",
              "      <th>mental_health_risk</th>\n",
              "    </tr>\n",
              "  </thead>\n",
              "  <tbody>\n",
              "    <tr>\n",
              "      <th>0</th>\n",
              "      <td>23</td>\n",
              "      <td>3</td>\n",
              "      <td>2</td>\n",
              "      <td>2</td>\n",
              "      <td>1</td>\n",
              "      <td>0</td>\n",
              "      <td>9.1</td>\n",
              "      <td>9.4</td>\n",
              "      <td>1</td>\n",
              "      <td>12</td>\n",
              "      <td>11</td>\n",
              "      <td>74</td>\n",
              "      <td>92.7</td>\n",
              "      <td>Medium</td>\n",
              "    </tr>\n",
              "    <tr>\n",
              "      <th>1</th>\n",
              "      <td>29</td>\n",
              "      <td>3</td>\n",
              "      <td>1</td>\n",
              "      <td>0</td>\n",
              "      <td>0</td>\n",
              "      <td>1</td>\n",
              "      <td>9.1</td>\n",
              "      <td>9.4</td>\n",
              "      <td>1</td>\n",
              "      <td>18</td>\n",
              "      <td>5</td>\n",
              "      <td>51</td>\n",
              "      <td>92.7</td>\n",
              "      <td>Medium</td>\n",
              "    </tr>\n",
              "    <tr>\n",
              "      <th>2</th>\n",
              "      <td>43</td>\n",
              "      <td>3</td>\n",
              "      <td>3</td>\n",
              "      <td>2</td>\n",
              "      <td>1</td>\n",
              "      <td>0</td>\n",
              "      <td>9.1</td>\n",
              "      <td>9.4</td>\n",
              "      <td>0</td>\n",
              "      <td>6</td>\n",
              "      <td>16</td>\n",
              "      <td>23</td>\n",
              "      <td>92.7</td>\n",
              "      <td>Medium</td>\n",
              "    </tr>\n",
              "    <tr>\n",
              "      <th>3</th>\n",
              "      <td>35</td>\n",
              "      <td>0</td>\n",
              "      <td>0</td>\n",
              "      <td>1</td>\n",
              "      <td>0</td>\n",
              "      <td>0</td>\n",
              "      <td>9.1</td>\n",
              "      <td>9.4</td>\n",
              "      <td>1</td>\n",
              "      <td>21</td>\n",
              "      <td>4</td>\n",
              "      <td>49</td>\n",
              "      <td>92.7</td>\n",
              "      <td>Medium</td>\n",
              "    </tr>\n",
              "    <tr>\n",
              "      <th>4</th>\n",
              "      <td>25</td>\n",
              "      <td>0</td>\n",
              "      <td>1</td>\n",
              "      <td>0</td>\n",
              "      <td>0</td>\n",
              "      <td>0</td>\n",
              "      <td>9.1</td>\n",
              "      <td>9.4</td>\n",
              "      <td>2</td>\n",
              "      <td>17</td>\n",
              "      <td>9</td>\n",
              "      <td>65</td>\n",
              "      <td>92.7</td>\n",
              "      <td>Medium</td>\n",
              "    </tr>\n",
              "  </tbody>\n",
              "</table>\n",
              "</div>"
            ],
            "text/plain": [
              "   age  gender  employment_status  work_environment  mental_health_history  \\\n",
              "0   23       3                  2                 2                      1   \n",
              "1   29       3                  1                 0                      0   \n",
              "2   43       3                  3                 2                      1   \n",
              "3   35       0                  0                 1                      0   \n",
              "4   25       0                  1                 0                      0   \n",
              "\n",
              "   seeks_treatment  stress_level  sleep_hours  physical_activity_days  \\\n",
              "0                0           9.1          9.4                       1   \n",
              "1                1           9.1          9.4                       1   \n",
              "2                0           9.1          9.4                       0   \n",
              "3                0           9.1          9.4                       1   \n",
              "4                0           9.1          9.4                       2   \n",
              "\n",
              "   depression_score  anxiety_score  social_support_score  productivity_score  \\\n",
              "0                12             11                    74                92.7   \n",
              "1                18              5                    51                92.7   \n",
              "2                 6             16                    23                92.7   \n",
              "3                21              4                    49                92.7   \n",
              "4                17              9                    65                92.7   \n",
              "\n",
              "  mental_health_risk  \n",
              "0             Medium  \n",
              "1             Medium  \n",
              "2             Medium  \n",
              "3             Medium  \n",
              "4             Medium  "
            ]
          },
          "metadata": {},
          "output_type": "display_data"
        }
      ],
      "source": [
        "for col in generated.select_dtypes(include=['object']).columns:\n",
        "    generated[col] = LabelEncoder().fit_transform(generated[col])\n",
        "\n",
        "\n",
        "pred = clf.predict(generated)\n",
        "generated[\"mental_health_risk\"] = le.inverse_transform(pred)\n",
        "print(\"\\nDados gerados com previsão de risco de saúde mental:\")\n",
        "display(generated.head())"
      ]
    },
    {
      "cell_type": "code",
      "execution_count": 14,
      "id": "29bb00cc",
      "metadata": {},
      "outputs": [
        {
          "name": "stdout",
          "output_type": "stream",
          "text": [
            "MSE: 23.33311231587627\n",
            "R²: 0.8820150865779537\n",
            "Produtividade prevista para depressão 8: 87.64\n"
          ]
        },
        {
          "name": "stderr",
          "output_type": "stream",
          "text": [
            "/Library/Frameworks/Python.framework/Versions/3.10/lib/python3.10/site-packages/sklearn/base.py:465: UserWarning: X does not have valid feature names, but LinearRegression was fitted with feature names\n",
            "  warnings.warn(\n"
          ]
        }
      ],
      "source": [
        "from sklearn.linear_model import LinearRegression\n",
        "from sklearn.metrics import mean_squared_error, r2_score\n",
        "\n",
        "X_prod = df[['depression_score']]\n",
        "y_prod = df['productivity_score']\n",
        "\n",
        "X_train_prod, X_test_prod, y_train_prod, y_test_prod = train_test_split(X_prod, y_prod, test_size=0.2, random_state=42)\n",
        "\n",
        "reg_prod = LinearRegression()\n",
        "reg_prod.fit(X_train_prod, y_train_prod)\n",
        "\n",
        "y_pred_prod = reg_prod.predict(X_test_prod)\n",
        "\n",
        "print(\"MSE:\", mean_squared_error(y_test_prod, y_pred_prod))\n",
        "print(\"R²:\", r2_score(y_test_prod, y_pred_prod))\n",
        "\n",
        "new_depression = 8\n",
        "prod_pred = reg_prod.predict([[new_depression]])\n",
        "print(f\"Produtividade prevista para depressão {new_depression}: {prod_pred[0]:.2f}\")"
      ]
    },
    {
      "cell_type": "markdown",
      "id": "cc8d93c5",
      "metadata": {},
      "source": [
        "## Considerações sobre Regressão\n",
        "\n",
        "Durante a análise exploratória dos dados, foi observado que a única relação de correlação mais forte encontrada foi entre o score de depressão e a produtividade. No entanto, mesmo essa correlação não se mostrou suficientemente robusta para justificar a construção de um modelo de regressão com bom poder preditivo. Dessa forma, a aplicação de modelos de regressão para prever produtividade a partir das demais variáveis do dataset não se mostrou interessante ou eficaz, já que não há relações estatísticas relevantes entre a maioria das variáveis analisadas. Isso indica que, para este conjunto de dados, abordagens de regressão não agregam valor significativo ao processo de análise e predição."
      ]
    },
    {
      "cell_type": "code",
      "execution_count": 15,
      "id": "69105c0f",
      "metadata": {},
      "outputs": [
        {
          "name": "stdout",
          "output_type": "stream",
          "text": [
            "\n",
            "Tabela de contingência entre clusters e risco de saúde mental:\n"
          ]
        },
        {
          "data": {
            "application/vnd.microsoft.datawrangler.viewer.v0+json": {
              "columns": [
                {
                  "name": "cluster",
                  "rawType": "int32",
                  "type": "integer"
                },
                {
                  "name": "High",
                  "rawType": "int64",
                  "type": "integer"
                },
                {
                  "name": "Low",
                  "rawType": "int64",
                  "type": "integer"
                },
                {
                  "name": "Medium",
                  "rawType": "int64",
                  "type": "integer"
                }
              ],
              "conversionMethod": "pd.DataFrame",
              "ref": "5dfc3519-5ec6-456f-82e8-906bbaf5cf3a",
              "rows": [
                [
                  "0",
                  "835",
                  "621",
                  "2008"
                ],
                [
                  "1",
                  "731",
                  "522",
                  "1834"
                ],
                [
                  "2",
                  "803",
                  "596",
                  "2050"
                ]
              ],
              "shape": {
                "columns": 3,
                "rows": 3
              }
            },
            "text/html": [
              "<div>\n",
              "<style scoped>\n",
              "    .dataframe tbody tr th:only-of-type {\n",
              "        vertical-align: middle;\n",
              "    }\n",
              "\n",
              "    .dataframe tbody tr th {\n",
              "        vertical-align: top;\n",
              "    }\n",
              "\n",
              "    .dataframe thead th {\n",
              "        text-align: right;\n",
              "    }\n",
              "</style>\n",
              "<table border=\"1\" class=\"dataframe\">\n",
              "  <thead>\n",
              "    <tr style=\"text-align: right;\">\n",
              "      <th>mental_health_risk</th>\n",
              "      <th>High</th>\n",
              "      <th>Low</th>\n",
              "      <th>Medium</th>\n",
              "    </tr>\n",
              "    <tr>\n",
              "      <th>cluster</th>\n",
              "      <th></th>\n",
              "      <th></th>\n",
              "      <th></th>\n",
              "    </tr>\n",
              "  </thead>\n",
              "  <tbody>\n",
              "    <tr>\n",
              "      <th>0</th>\n",
              "      <td>835</td>\n",
              "      <td>621</td>\n",
              "      <td>2008</td>\n",
              "    </tr>\n",
              "    <tr>\n",
              "      <th>1</th>\n",
              "      <td>731</td>\n",
              "      <td>522</td>\n",
              "      <td>1834</td>\n",
              "    </tr>\n",
              "    <tr>\n",
              "      <th>2</th>\n",
              "      <td>803</td>\n",
              "      <td>596</td>\n",
              "      <td>2050</td>\n",
              "    </tr>\n",
              "  </tbody>\n",
              "</table>\n",
              "</div>"
            ],
            "text/plain": [
              "mental_health_risk  High  Low  Medium\n",
              "cluster                              \n",
              "0                    835  621    2008\n",
              "1                    731  522    1834\n",
              "2                    803  596    2050"
            ]
          },
          "metadata": {},
          "output_type": "display_data"
        }
      ],
      "source": [
        "from sklearn.preprocessing import LabelEncoder, StandardScaler\n",
        "from sklearn.cluster import KMeans\n",
        "\n",
        "cols = ['sleep_hours', 'physical_activity_days', 'work_environment', 'employment_status']\n",
        "X_cluster = df[cols].copy()\n",
        "\n",
        "for col in ['work_environment', 'employment_status']:\n",
        "    X_cluster[col] = LabelEncoder().fit_transform(X_cluster[col])\n",
        "\n",
        "scaler = StandardScaler()\n",
        "X_cluster_scaled = scaler.fit_transform(X_cluster)\n",
        "\n",
        "kmeans = KMeans(n_clusters=3, random_state=42, n_init=10)\n",
        "df['cluster'] = kmeans.fit_predict(X_cluster_scaled)\n",
        "\n",
        "ct = pd.crosstab(df['cluster'], df['mental_health_risk'])\n",
        "\n",
        "print(\"\\nTabela de contingência entre clusters e risco de saúde mental:\")\n",
        "display(ct)"
      ]
    },
    {
      "cell_type": "code",
      "execution_count": 16,
      "id": "d8b54eb4",
      "metadata": {},
      "outputs": [
        {
          "name": "stdout",
          "output_type": "stream",
          "text": [
            "         sleep_hours  physical_activity_days\n",
            "cluster                                     \n",
            "0           6.448874                5.503176\n",
            "1           6.503466                3.509880\n",
            "2           6.469962                1.495796\n",
            "        work_environment employment_status\n",
            "cluster                                   \n",
            "0                On-site          Employed\n",
            "1                On-site           Student\n",
            "2                On-site          Employed\n"
          ]
        }
      ],
      "source": [
        "print(df.groupby('cluster')[['sleep_hours', 'physical_activity_days']].mean())\n",
        "\n",
        "print(df.groupby('cluster')[['work_environment', 'employment_status']].agg(lambda x: x.value_counts().index[0]))\n"
      ]
    },
    {
      "cell_type": "code",
      "execution_count": 17,
      "id": "ca6c981e",
      "metadata": {},
      "outputs": [],
      "source": [
        "cluster_labels = {\n",
        "    0: 'Ativo & Empregado',\n",
        "    1: 'Estudante Moderado',\n",
        "    2: 'Sedentário & Empregado'\n",
        "}\n",
        "\n",
        "ct_renamed = ct.rename(index=cluster_labels)"
      ]
    },
    {
      "cell_type": "code",
      "execution_count": 18,
      "id": "26003def",
      "metadata": {},
      "outputs": [
        {
          "data": {
            "image/png": "[encoded data removed]",
            "text/plain": [
              "<Figure size 1000x600 with 1 Axes>"
            ]
          },
          "metadata": {},
          "output_type": "display_data"
        }
      ],
      "source": [
        "ct_renamed.plot(kind='bar', stacked=True, figsize=(10,6))\n",
        "plt.xlabel('Perfil do Cluster')\n",
        "plt.ylabel('Quantidade')\n",
        "plt.title('Distribuição de Risco à Saúde Mental por Perfil de Estilo de Vida')\n",
        "plt.legend(title='Risco à Saúde Mental')\n",
        "plt.xticks(rotation=0)\n",
        "plt.tight_layout()\n",
        "plt.show()\n"
      ]
    },
    {
      "cell_type": "markdown",
      "id": "44ea839a",
      "metadata": {},
      "source": [
        "## Considerações sobre Clusterização\n",
        "\n",
        "\n",
        "A aplicação da clusterização no dataset, utilizando o algoritmo K-Means com base nas variáveis sleep_hours, physical_activity_days, work_environment e employment_status, não se mostrou particularmente eficaz para identificar perfis distintos relacionados ao risco à saúde mental. Apesar de ter gerado agrupamentos, os clusters formados apresentaram médias muito próximas entre si em relação às variáveis consideradas, além de não revelarem padrões comportamentais ou sociais suficientemente distintos que justificassem uma segmentação relevante."
      ]
    },
    {
      "cell_type": "code",
      "execution_count": null,
      "id": "fd6526cd",
      "metadata": {},
      "outputs": [
        {
          "name": "stdout",
          "output_type": "stream",
          "text": [
            "\n",
            "Tabela de contingência entre clusters e risco de saúde mental:\n"
          ]
        },
        {
          "data": {
            "application/vnd.microsoft.datawrangler.viewer.v0+json": {
              "columns": [
                {
                  "name": "cluster",
                  "rawType": "int32",
                  "type": "integer"
                },
                {
                  "name": "High",
                  "rawType": "int64",
                  "type": "integer"
                },
                {
                  "name": "Low",
                  "rawType": "int64",
                  "type": "integer"
                },
                {
                  "name": "Medium",
                  "rawType": "int64",
                  "type": "integer"
                }
              ],
              "conversionMethod": "pd.DataFrame",
              "ref": "e6f937ac-9fd7-4fff-b3cd-66e571d3e129",
              "rows": [
                [
                  "0",
                  "2126",
                  "0",
                  "2151"
                ],
                [
                  "1",
                  "0",
                  "1602",
                  "1207"
                ],
                [
                  "2",
                  "243",
                  "137",
                  "2534"
                ]
              ],
              "shape": {
                "columns": 3,
                "rows": 3
              }
            },
            "text/html": [
              "<div>\n",
              "<style scoped>\n",
              "    .dataframe tbody tr th:only-of-type {\n",
              "        vertical-align: middle;\n",
              "    }\n",
              "\n",
              "    .dataframe tbody tr th {\n",
              "        vertical-align: top;\n",
              "    }\n",
              "\n",
              "    .dataframe thead th {\n",
              "        text-align: right;\n",
              "    }\n",
              "</style>\n",
              "<table border=\"1\" class=\"dataframe\">\n",
              "  <thead>\n",
              "    <tr style=\"text-align: right;\">\n",
              "      <th>mental_health_risk</th>\n",
              "      <th>High</th>\n",
              "      <th>Low</th>\n",
              "      <th>Medium</th>\n",
              "    </tr>\n",
              "    <tr>\n",
              "      <th>cluster</th>\n",
              "      <th></th>\n",
              "      <th></th>\n",
              "      <th></th>\n",
              "    </tr>\n",
              "  </thead>\n",
              "  <tbody>\n",
              "    <tr>\n",
              "      <th>0</th>\n",
              "      <td>2126</td>\n",
              "      <td>0</td>\n",
              "      <td>2151</td>\n",
              "    </tr>\n",
              "    <tr>\n",
              "      <th>1</th>\n",
              "      <td>0</td>\n",
              "      <td>1602</td>\n",
              "      <td>1207</td>\n",
              "    </tr>\n",
              "    <tr>\n",
              "      <th>2</th>\n",
              "      <td>243</td>\n",
              "      <td>137</td>\n",
              "      <td>2534</td>\n",
              "    </tr>\n",
              "  </tbody>\n",
              "</table>\n",
              "</div>"
            ],
            "text/plain": [
              "mental_health_risk  High   Low  Medium\n",
              "cluster                               \n",
              "0                   2126     0    2151\n",
              "1                      0  1602    1207\n",
              "2                    243   137    2534"
            ]
          },
          "metadata": {},
          "output_type": "display_data"
        },
        {
          "data": {
            "image/png": "[encoded data removed]",
            "text/plain": [
              "<Figure size 800x500 with 1 Axes>"
            ]
          },
          "metadata": {},
          "output_type": "display_data"
        }
      ],
      "source": [
        "cols = ['anxiety_score', 'depression_score', 'productivity_score']\n",
        "X_cluster = df[cols].copy()\n",
        "\n",
        "scaler = StandardScaler()\n",
        "X_cluster_scaled = scaler.fit_transform(X_cluster)\n",
        "\n",
        "kmeans = KMeans(n_clusters=3, random_state=42, n_init=10)\n",
        "df['cluster'] = kmeans.fit_predict(X_cluster_scaled)\n",
        "\n",
        "ct = pd.crosstab(df['cluster'], df['mental_health_risk'])\n",
        "\n",
        "print(\"\\nTabela de contingência entre clusters e risco de saúde mental:\")\n",
        "display(ct)\n",
        "\n",
        "ct.plot(kind='bar', stacked=True, figsize=(8,5))\n",
        "plt.xlabel('Cluster')\n",
        "plt.ylabel('Quantidade')\n",
        "plt.title('Distribuição de mental_health_risk por Cluster (anxiety, depression, productivity)')\n",
        "plt.legend(title='mental_health_risk')\n",
        "plt.tight_layout()\n",
        "plt.show()"
      ]
    },
    {
      "cell_type": "code",
      "execution_count": 21,
      "id": "eaecd27d",
      "metadata": {},
      "outputs": [
        {
          "name": "stdout",
          "output_type": "stream",
          "text": [
            "         anxiety_score  depression_score  productivity_score\n",
            "cluster                                                     \n",
            "0            10.568623         23.815057           63.740636\n",
            "1             4.742969          8.406194           87.559559\n",
            "2            16.160947          8.554907           87.353672\n"
          ]
        }
      ],
      "source": [
        "print(df.groupby('cluster')[['anxiety_score', 'depression_score', 'productivity_score']].mean())"
      ]
    },
    {
      "cell_type": "code",
      "execution_count": 22,
      "id": "c38a5a83",
      "metadata": {},
      "outputs": [],
      "source": [
        "cluster_labels = {\n",
        "    0: 'Alto Risco Emocional & Baixa Produtividade',\n",
        "    1: 'Baixo Risco Emocional & Alta Produtividade',\n",
        "    2: 'Ansiedade Elevada & Alta Produtividade'\n",
        "}"
      ]
    },
    {
      "cell_type": "code",
      "execution_count": 24,
      "id": "956f2151",
      "metadata": {},
      "outputs": [
        {
          "data": {
            "image/png": "[encoded data removed]",
            "text/plain": [
              "<Figure size 1000x600 with 1 Axes>"
            ]
          },
          "metadata": {},
          "output_type": "display_data"
        }
      ],
      "source": [
        "ct_renamed = ct.rename(index=cluster_labels)\n",
        "\n",
        "ct_renamed.plot(kind='bar', stacked=True, figsize=(10,6))\n",
        "plt.xlabel('Perfil do Cluster')\n",
        "plt.ylabel('Quantidade')\n",
        "plt.title('Distribuição de Risco à Saúde Mental por Perfil de Cluster')\n",
        "plt.legend(title='mental_health_risk')\n",
        "plt.xticks(rotation=15, ha='right')\n",
        "plt.tight_layout()\n",
        "plt.show()"
      ]
    },
    {
      "cell_type": "markdown",
      "id": "f475b19e",
      "metadata": {},
      "source": [
        "## Considerações finais sobre a clusterização acima\n",
        "\n",
        "Com base na clusterização realizada a partir das variáveis anxiety_score, depression_score e productivity_score, foi possível observar uma segmentação mais coerente em relação ao risco à saúde mental, em comparação a abordagens anteriores com variáveis menos diretamente relacionadas ao estado psicológico. A visualização da distribuição do risco de saúde mental por cluster revela certa diferenciação entre os grupos, especialmente na predominância de níveis de risco dentro de cada cluster."
      ]
    }
  ],
  "metadata": {
    "colab": {
      "provenance": []
    },
    "kernelspec": {
      "display_name": "Python 3",
      "language": "python",
      "name": "python3"
    },
    "language_info": {
      "codemirror_mode": {
        "name": "ipython",
        "version": 3
      },
      "file_extension": ".py",
      "mimetype": "text/x-python",
      "name": "python",
      "nbconvert_exporter": "python",
      "pygments_lexer": "ipython3",
      "version": "3.10.11"
    }
  },
  "nbformat": 4,
  "nbformat_minor": 5
}
